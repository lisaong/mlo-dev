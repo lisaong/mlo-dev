{
  "nbformat": 4,
  "nbformat_minor": 0,
  "metadata": {
    "colab": {
      "name": "isl_plot",
      "provenance": [],
      "collapsed_sections": [],
      "authorship_tag": "ABX9TyNxx2b3r6lwrRehYKdEtRzj",
      "include_colab_link": true
    },
    "kernelspec": {
      "name": "python3",
      "display_name": "Python 3"
    }
  },
  "cells": [
    {
      "cell_type": "markdown",
      "metadata": {
        "id": "view-in-github",
        "colab_type": "text"
      },
      "source": [
        "<a href=\"https://colab.research.google.com/github/lisaong/mlo-dev/blob/main/robocode/isl/isl_plot.ipynb\" target=\"_parent\"><img src=\"https://colab.research.google.com/assets/colab-badge.svg\" alt=\"Open In Colab\"/></a>"
      ]
    },
    {
      "cell_type": "code",
      "metadata": {
        "colab": {
          "base_uri": "https://localhost:8080/"
        },
        "id": "LhxMYYq30xv4",
        "outputId": "3120c5b5-ba94-4b3e-d8f5-5ba7d0214bde"
      },
      "source": [
        "!pip install islpy"
      ],
      "execution_count": 1,
      "outputs": [
        {
          "output_type": "stream",
          "text": [
            "Collecting islpy\n",
            "\u001b[?25l  Downloading https://files.pythonhosted.org/packages/6e/31/584e055b9f379edb79b5cfd1eee54a7c58894d677cc8df49676a60c8497d/islpy-2020.2.2-cp37-cp37m-manylinux1_x86_64.whl (3.4MB)\n",
            "\u001b[K     |████████████████████████████████| 3.4MB 12.7MB/s \n",
            "\u001b[?25hRequirement already satisfied: six in /usr/local/lib/python3.7/dist-packages (from islpy) (1.15.0)\n",
            "Requirement already satisfied: pytest>=2 in /usr/local/lib/python3.7/dist-packages (from islpy) (3.6.4)\n",
            "Requirement already satisfied: pluggy<0.8,>=0.5 in /usr/local/lib/python3.7/dist-packages (from pytest>=2->islpy) (0.7.1)\n",
            "Requirement already satisfied: setuptools in /usr/local/lib/python3.7/dist-packages (from pytest>=2->islpy) (53.0.0)\n",
            "Requirement already satisfied: atomicwrites>=1.0 in /usr/local/lib/python3.7/dist-packages (from pytest>=2->islpy) (1.4.0)\n",
            "Requirement already satisfied: more-itertools>=4.0.0 in /usr/local/lib/python3.7/dist-packages (from pytest>=2->islpy) (8.7.0)\n",
            "Requirement already satisfied: py>=1.5.0 in /usr/local/lib/python3.7/dist-packages (from pytest>=2->islpy) (1.10.0)\n",
            "Requirement already satisfied: attrs>=17.4.0 in /usr/local/lib/python3.7/dist-packages (from pytest>=2->islpy) (20.3.0)\n",
            "Installing collected packages: islpy\n",
            "Successfully installed islpy-2020.2.2\n"
          ],
          "name": "stdout"
        }
      ]
    },
    {
      "cell_type": "code",
      "metadata": {
        "colab": {
          "base_uri": "https://localhost:8080/"
        },
        "id": "zEK8do_C1mWT",
        "outputId": "582c2c2a-d878-4ccb-ff83-950c089d9c6c"
      },
      "source": [
        "!git clone https://github.com/tobiasgrosser/islplot"
      ],
      "execution_count": 2,
      "outputs": [
        {
          "output_type": "stream",
          "text": [
            "Cloning into 'islplot'...\n",
            "remote: Enumerating objects: 508, done.\u001b[K\n",
            "remote: Total 508 (delta 0), reused 0 (delta 0), pack-reused 508\u001b[K\n",
            "Receiving objects: 100% (508/508), 905.48 KiB | 2.18 MiB/s, done.\n",
            "Resolving deltas: 100% (298/298), done.\n"
          ],
          "name": "stdout"
        }
      ]
    },
    {
      "cell_type": "code",
      "metadata": {
        "colab": {
          "base_uri": "https://localhost:8080/"
        },
        "id": "iKFdAqZG2G0l",
        "outputId": "d8bc3c01-f168-4a7c-881c-8677c6edb2df"
      },
      "source": [
        "!cd islplot && python setup.py install --user"
      ],
      "execution_count": 11,
      "outputs": [
        {
          "output_type": "stream",
          "text": [
            "running install\n",
            "running bdist_egg\n",
            "running egg_info\n",
            "writing islplot.egg-info/PKG-INFO\n",
            "writing dependency_links to islplot.egg-info/dependency_links.txt\n",
            "writing top-level names to islplot.egg-info/top_level.txt\n",
            "writing manifest file 'islplot.egg-info/SOURCES.txt'\n",
            "installing library code to build/bdist.linux-x86_64/egg\n",
            "running install_lib\n",
            "running build_py\n",
            "creating build/bdist.linux-x86_64/egg\n",
            "creating build/bdist.linux-x86_64/egg/islplot\n",
            "copying build/lib/islplot/support.py -> build/bdist.linux-x86_64/egg/islplot\n",
            "copying build/lib/islplot/plotter3d.py -> build/bdist.linux-x86_64/egg/islplot\n",
            "copying build/lib/islplot/blender.py -> build/bdist.linux-x86_64/egg/islplot\n",
            "copying build/lib/islplot/plotter.py -> build/bdist.linux-x86_64/egg/islplot\n",
            "copying build/lib/islplot/__init__.py -> build/bdist.linux-x86_64/egg/islplot\n",
            "byte-compiling build/bdist.linux-x86_64/egg/islplot/support.py to support.cpython-37.pyc\n",
            "byte-compiling build/bdist.linux-x86_64/egg/islplot/plotter3d.py to plotter3d.cpython-37.pyc\n",
            "byte-compiling build/bdist.linux-x86_64/egg/islplot/blender.py to blender.cpython-37.pyc\n",
            "byte-compiling build/bdist.linux-x86_64/egg/islplot/plotter.py to plotter.cpython-37.pyc\n",
            "byte-compiling build/bdist.linux-x86_64/egg/islplot/__init__.py to __init__.cpython-37.pyc\n",
            "creating build/bdist.linux-x86_64/egg/EGG-INFO\n",
            "copying islplot.egg-info/PKG-INFO -> build/bdist.linux-x86_64/egg/EGG-INFO\n",
            "copying islplot.egg-info/SOURCES.txt -> build/bdist.linux-x86_64/egg/EGG-INFO\n",
            "copying islplot.egg-info/dependency_links.txt -> build/bdist.linux-x86_64/egg/EGG-INFO\n",
            "copying islplot.egg-info/top_level.txt -> build/bdist.linux-x86_64/egg/EGG-INFO\n",
            "zip_safe flag not set; analyzing archive contents...\n",
            "creating 'dist/islplot-0.1-py3.7.egg' and adding 'build/bdist.linux-x86_64/egg' to it\n",
            "removing 'build/bdist.linux-x86_64/egg' (and everything under it)\n",
            "Processing islplot-0.1-py3.7.egg\n",
            "Copying islplot-0.1-py3.7.egg to /root/.local/lib/python3.7/site-packages\n",
            "Adding islplot 0.1 to easy-install.pth file\n",
            "\n",
            "Installed /root/.local/lib/python3.7/site-packages/islplot-0.1-py3.7.egg\n",
            "Processing dependencies for islplot==0.1\n",
            "Finished processing dependencies for islplot==0.1\n"
          ],
          "name": "stdout"
        }
      ]
    },
    {
      "cell_type": "code",
      "metadata": {
        "id": "Ukps4olT2Rbl"
      },
      "source": [
        "# restart runtime"
      ],
      "execution_count": 3,
      "outputs": []
    },
    {
      "cell_type": "code",
      "metadata": {
        "id": "LncvkEXG16gW"
      },
      "source": [
        "# https://nbviewer.ipython.org/github/tobig/islplot/blob/master/notebooks/islplot-examples.ipynb\r\n",
        "\r\n",
        "# Load islpy and islplot\r\n",
        "from islpy import *\r\n",
        "from islplot.plotter import *"
      ],
      "execution_count": 4,
      "outputs": []
    },
    {
      "cell_type": "code",
      "metadata": {
        "colab": {
          "base_uri": "https://localhost:8080/",
          "height": 265
        },
        "id": "B5aN9fpL2XC2",
        "outputId": "6cf5b82a-af87-45d9-c1b7-967a52276582"
      },
      "source": [
        "domain = Set(\"{[i,j]: 0 <= i < 6 and 0 <= j < 6}\")\r\n",
        "dependences = Map(\"{[i,j]-> [i+1,j+1]; [i,j]-> [i+1,j]}\")\r\n",
        "tiling = Map(\"{[i,j] -> [floor(i/2), floor(j/2)]}\")\r\n",
        "space = Map(\"{[i,j] -> [i,i+j]}\")\r\n",
        "plot_domain(domain, dependences, tiling, space)"
      ],
      "execution_count": 5,
      "outputs": [
        {
          "output_type": "display_data",
          "data": {
            "image/png": "[encoded data removed]",
            "text/plain": [
              "<Figure size 432x288 with 1 Axes>"
            ]
          },
          "metadata": {
            "tags": [],
            "needs_background": "light"
          }
        }
      ]
    },
    {
      "cell_type": "code",
      "metadata": {
        "id": "DTGAi7_f3VY2"
      },
      "source": [
        ""
      ],
      "execution_count": null,
      "outputs": []
    }
  ]
}